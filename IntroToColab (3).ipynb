{
  "nbformat": 4,
  "nbformat_minor": 0,
  "metadata": {
    "colab": {
      "provenance": []
    },
    "kernelspec": {
      "name": "python3",
      "display_name": "Python 3"
    },
    "language_info": {
      "name": "python"
    }
  },
  "cells": [
    {
      "cell_type": "code",
      "execution_count": null,
      "metadata": {
        "colab": {
          "base_uri": "https://localhost:8080/"
        },
        "id": "HANlW0siutc3",
        "outputId": "0b18f5d2-7459-4660-a48e-ca70d0ce7e39"
      },
      "outputs": [
        {
          "output_type": "stream",
          "name": "stdout",
          "text": [
            "Hello Everyone\n"
          ]
        }
      ],
      "source": [
        "print(\"Hello Everyone\")"
      ]
    },
    {
      "cell_type": "code",
      "source": [
        "x = 40\n",
        "3 * x\n",
        "2 * x"
      ],
      "metadata": {
        "colab": {
          "base_uri": "https://localhost:8080/"
        },
        "id": "UykyWeFbvYAi",
        "outputId": "7f952a0a-5991-4c94-ba5a-a59493112f5e"
      },
      "execution_count": null,
      "outputs": [
        {
          "output_type": "execute_result",
          "data": {
            "text/plain": [
              "80"
            ]
          },
          "metadata": {},
          "execution_count": 6
        }
      ]
    },
    {
      "cell_type": "markdown",
      "source": [
        "I can type anythying here and it won't crash."
      ],
      "metadata": {
        "id": "WPQarkG9vr5b"
      }
    },
    {
      "cell_type": "code",
      "source": [
        "print(\"I can't type anything here\")"
      ],
      "metadata": {
        "colab": {
          "base_uri": "https://localhost:8080/"
        },
        "id": "OPBJlMESv4fS",
        "outputId": "cc6f9491-f12f-427c-8d07-51d77d6f6a3d"
      },
      "execution_count": null,
      "outputs": [
        {
          "output_type": "stream",
          "name": "stdout",
          "text": [
            "I can't type anything here\n"
          ]
        }
      ]
    },
    {
      "cell_type": "markdown",
      "source": [
        "# This is a header\n",
        "Let's bold this word **Python**"
      ],
      "metadata": {
        "id": "WcLTAYYDwKnf"
      }
    },
    {
      "cell_type": "markdown",
      "source": [
        "Let's bold this word **Yay DSU**"
      ],
      "metadata": {
        "id": "m8pUpEkOwsqZ"
      }
    }
  ]
}